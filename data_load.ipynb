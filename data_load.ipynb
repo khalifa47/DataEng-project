{
 "cells": [
  {
   "cell_type": "code",
   "execution_count": 53,
   "id": "368ad004-df7f-4c2c-9350-0148054f9eba",
   "metadata": {},
   "outputs": [],
   "source": [
    "import findspark\n",
    "findspark.init()\n",
    "\n",
    "from pyspark.sql import SparkSession\n",
    "from pyspark.sql.functions import col, lower, trim\n",
    "import os\n",
    "\n",
    "def create_spark_session(app_name=\"RedditDataProcessor\"):\n",
    "    \"\"\"Create a Spark session connected to the cluster\"\"\"\n",
    "    spark = SparkSession \\\n",
    "        .builder \\\n",
    "        .master(\"spark://g37-master:7077\") \\\n",
    "        .appName(app_name) \\\n",
    "        .config(\"spark.dynamicAllocation.enabled\", True) \\\n",
    "        .config(\"spark.dynamicAllocation.shuffleTracking.enabled\", True) \\\n",
    "        .config(\"spark.shuffle.service.enabled\", False) \\\n",
    "        .config(\"spark.dynamicAllocation.executorIdleTimeout\", \"30s\") \\\n",
    "        .config(\"spark.executor.cores\", 3) \\\n",
    "        .config(\"spark.executor.memory\", \"6g\") \\\n",
    "        .config(\"spark.driver.memory\", \"6g\") \\\n",
    "        .config(\"spark.default.parallelism\", 18) \\\n",
    "        .config(\"spark.sql.shuffle.partitions\", 18) \\\n",
    "        .config(\"spark.memory.fraction\", 0.8) \\\n",
    "        .config(\"spark.serializer\", \"org.apache.spark.serializer.KryoSerializer\") \\\n",
    "        .config(\"spark.kryoserializer.buffer.max\", \"1g\") \\\n",
    "        .getOrCreate()\n",
    "    \n",
    "    return spark"
   ]
  },
  {
   "cell_type": "code",
   "execution_count": 54,
   "id": "a9025530-39bc-41db-9fa7-2f2a1ca493c2",
   "metadata": {},
   "outputs": [],
   "source": [
    "filenames = [\"corpus-webis-tldr-17.json\", \"reddit_100k.json\", \"reddit_200k.json\", \"reddit_500k.json\", \"reddit_50k.json\", \"reddit_filtered.parquet\"]"
   ]
  },
  {
   "cell_type": "code",
   "execution_count": 55,
   "id": "4ca4209c-2139-49b0-b331-87e609d72c45",
   "metadata": {},
   "outputs": [],
   "source": [
    "spark = create_spark_session()"
   ]
  },
  {
   "cell_type": "code",
   "execution_count": 57,
   "id": "ff9826d6-c554-4241-89d9-7649662c0a6d",
   "metadata": {},
   "outputs": [],
   "source": [
    "folderpath = \"hdfs://192.168.2.156:9000/data/reddit/\"\n",
    "filename = filenames[0]\n",
    "source_hdfs_path = folderpath + filename"
   ]
  },
  {
   "cell_type": "code",
   "execution_count": 58,
   "id": "8d9ee246-fa6b-4945-a8ad-f1ada3de2857",
   "metadata": {},
   "outputs": [
    {
     "name": "stdout",
     "output_type": "stream",
     "text": [
      "Reading Reddit data from source: hdfs://192.168.2.156:9000/data/reddit/corpus-webis-tldr-17.json\n"
     ]
    },
    {
     "name": "stderr",
     "output_type": "stream",
     "text": [
      "                                                                                "
     ]
    },
    {
     "name": "stdout",
     "output_type": "stream",
     "text": [
      "Original Reddit data sample:\n"
     ]
    },
    {
     "name": "stderr",
     "output_type": "stream",
     "text": [
      "[Stage 1:>                                                          (0 + 1) / 1]"
     ]
    },
    {
     "name": "stdout",
     "output_type": "stream",
     "text": [
      "+----------------+-----------------------------------------------------------------------------------------------------------------------------------------------------------------------------------------------------------------------------------------------------------------------------------------------------------------------------------------------------------------------------------------------------------------------------------------------------------------------------------------------------------------------------------------------------------------------------------------------------------------------------------------------------------------------------------------------------------------------------------------------------------------------------------------------------------------------------------------------------------------------------------------------------------------------------------------------------------------------------------------------------------------------------------------------------------------------------------------------------------------------------------------------------+------------------------------------------------------------------------------------------------------------------------------------------------------------------------------------------------------------------------------------------------------------------------------------------------------------------------------------------------------------------------------------------------------------------------------------------------------------------------------------------------------------------------------------------------------------------------------------------------------------------------------------------------------------------------------------------------------------------------------------------------------------------------------------------------------------------------------------------------------------------------------------------------------------------------------------------------------------------------------------------------------------------------------------------------------------------------------------------+-----------+-------+-----------------------------------------------------------------------------------------------------------------------------------------------------------------------------------------------------------------------------------------------------------------------------------------------------------------------------------------------------------------------------------------------------------------------------------------------------------------------------------------------------------------------------------------------------------------------------------------------------------------------------------------------------------------------------------------------------------------------------------------------------------------------------------------------------------------------------------------------------------------------------------------------------------------------------------------------------------------------------------------------------------------------------------------------------------------------------------------------------------------------------------------------------+---------+------------+---------------------------------------------+-----------+-----+\n",
      "|author          |body                                                                                                                                                                                                                                                                                                                                                                                                                                                                                                                                                                                                                                                                                                                                                                                                                                                                                                                                                                                                                                                                                                                                                 |content                                                                                                                                                                                                                                                                                                                                                                                                                                                                                                                                                                                                                                                                                                                                                                                                                                                                                                                                                                                                                                                                                   |content_len|id     |normalizedBody                                                                                                                                                                                                                                                                                                                                                                                                                                                                                                                                                                                                                                                                                                                                                                                                                                                                                                                                                                                                                                                                                                                                       |subreddit|subreddit_id|summary                                      |summary_len|title|\n",
      "+----------------+-----------------------------------------------------------------------------------------------------------------------------------------------------------------------------------------------------------------------------------------------------------------------------------------------------------------------------------------------------------------------------------------------------------------------------------------------------------------------------------------------------------------------------------------------------------------------------------------------------------------------------------------------------------------------------------------------------------------------------------------------------------------------------------------------------------------------------------------------------------------------------------------------------------------------------------------------------------------------------------------------------------------------------------------------------------------------------------------------------------------------------------------------------+------------------------------------------------------------------------------------------------------------------------------------------------------------------------------------------------------------------------------------------------------------------------------------------------------------------------------------------------------------------------------------------------------------------------------------------------------------------------------------------------------------------------------------------------------------------------------------------------------------------------------------------------------------------------------------------------------------------------------------------------------------------------------------------------------------------------------------------------------------------------------------------------------------------------------------------------------------------------------------------------------------------------------------------------------------------------------------------+-----------+-------+-----------------------------------------------------------------------------------------------------------------------------------------------------------------------------------------------------------------------------------------------------------------------------------------------------------------------------------------------------------------------------------------------------------------------------------------------------------------------------------------------------------------------------------------------------------------------------------------------------------------------------------------------------------------------------------------------------------------------------------------------------------------------------------------------------------------------------------------------------------------------------------------------------------------------------------------------------------------------------------------------------------------------------------------------------------------------------------------------------------------------------------------------------+---------+------------+---------------------------------------------+-----------+-----+\n",
      "|raysofdarkmatter|I think it should be fixed on either UTC standard or UTC+1 year around, with the current zone offsets.\\n\\nMoving timescales add a lot of complexity to the implementation of timekeeping systems and have [dubious value]( \\n\\nI think seasonal shifting time made sense in the pre-electric past, when timekeeping was more flexible and artificial light was inefficient and often dangerous. \\n\\nNow we have machines that work easily with simple timekeeping rules, and it's more beneficial to spend a small amount on energy for lighting, and save the larger cost of engineering things to work with the complex timekeeping rules, as well as saving the irritation to humans.\\n\\nLighting has gotten much more efficient over time; we can squeeze out a lot more photons per unit of energy from a 2012 CFL or LED than a candle could in 1780, or a lightbulb could in 1950. \\n\\nThere's a lot of room for improvement in how we use lights as well; as lighting control gets more intelligent, there will be a lot of savings from not illuminating inactive spaces constantly.\\n\\ntl;dr: Shifting seasonal time is no longer worth it.|I think it should be fixed on either UTC standard or UTC+1 year around, with the current zone offsets. \\n Moving timescales add a lot of complexity to the implementation of timekeeping systems and have [dubious value]( \\n I think seasonal shifting time made sense in the pre-electric past, when timekeeping was more flexible and artificial light was inefficient and often dangerous. \\n Now we have machines that work easily with simple timekeeping rules, and it's more beneficial to spend a small amount on energy for lighting, and save the larger cost of engineering things to work with the complex timekeeping rules, as well as saving the irritation to humans. \\n Lighting has gotten much more efficient over time; we can squeeze out a lot more photons per unit of energy from a 2012 CFL or LED than a candle could in 1780, or a lightbulb could in 1950. \\n There's a lot of room for improvement in how we use lights as well; as lighting control gets more intelligent, there will be a lot of savings from not illuminating inactive spaces constantly.|178        |c69al3r|I think it should be fixed on either UTC standard or UTC+1 year around, with the current zone offsets. \\n Moving timescales add a lot of complexity to the implementation of timekeeping systems and have [dubious value]( \\n I think seasonal shifting time made sense in the pre-electric past, when timekeeping was more flexible and artificial light was inefficient and often dangerous. \\n Now we have machines that work easily with simple timekeeping rules, and it's more beneficial to spend a small amount on energy for lighting, and save the larger cost of engineering things to work with the complex timekeeping rules, as well as saving the irritation to humans. \\n Lighting has gotten much more efficient over time; we can squeeze out a lot more photons per unit of energy from a 2012 CFL or LED than a candle could in 1780, or a lightbulb could in 1950. \\n There's a lot of room for improvement in how we use lights as well; as lighting control gets more intelligent, there will be a lot of savings from not illuminating inactive spaces constantly. \\n tl;dr: Shifting seasonal time is no longer worth it. \\n|math     |t5_2qh0n    |Shifting seasonal time is no longer worth it.|8          |NULL |\n",
      "+----------------+-----------------------------------------------------------------------------------------------------------------------------------------------------------------------------------------------------------------------------------------------------------------------------------------------------------------------------------------------------------------------------------------------------------------------------------------------------------------------------------------------------------------------------------------------------------------------------------------------------------------------------------------------------------------------------------------------------------------------------------------------------------------------------------------------------------------------------------------------------------------------------------------------------------------------------------------------------------------------------------------------------------------------------------------------------------------------------------------------------------------------------------------------------+------------------------------------------------------------------------------------------------------------------------------------------------------------------------------------------------------------------------------------------------------------------------------------------------------------------------------------------------------------------------------------------------------------------------------------------------------------------------------------------------------------------------------------------------------------------------------------------------------------------------------------------------------------------------------------------------------------------------------------------------------------------------------------------------------------------------------------------------------------------------------------------------------------------------------------------------------------------------------------------------------------------------------------------------------------------------------------------+-----------+-------+-----------------------------------------------------------------------------------------------------------------------------------------------------------------------------------------------------------------------------------------------------------------------------------------------------------------------------------------------------------------------------------------------------------------------------------------------------------------------------------------------------------------------------------------------------------------------------------------------------------------------------------------------------------------------------------------------------------------------------------------------------------------------------------------------------------------------------------------------------------------------------------------------------------------------------------------------------------------------------------------------------------------------------------------------------------------------------------------------------------------------------------------------------+---------+------------+---------------------------------------------+-----------+-----+\n",
      "only showing top 1 row\n",
      "\n",
      "Data Schema:\n",
      "root\n",
      " |-- author: string (nullable = true)\n",
      " |-- body: string (nullable = true)\n",
      " |-- content: string (nullable = true)\n",
      " |-- content_len: long (nullable = true)\n",
      " |-- id: string (nullable = true)\n",
      " |-- normalizedBody: string (nullable = true)\n",
      " |-- subreddit: string (nullable = true)\n",
      " |-- subreddit_id: string (nullable = true)\n",
      " |-- summary: string (nullable = true)\n",
      " |-- summary_len: long (nullable = true)\n",
      " |-- title: string (nullable = true)\n",
      "\n"
     ]
    },
    {
     "name": "stderr",
     "output_type": "stream",
     "text": [
      "                                                                                "
     ]
    }
   ],
   "source": [
    "# Read data from source HDFS (read-only operation)\n",
    "print(f\"Reading Reddit data from source: {source_hdfs_path}\")\n",
    "df = spark.read.json(source_hdfs_path)\n",
    "\n",
    "# Show data sample and schema\n",
    "print(\"Original Reddit data sample:\")\n",
    "df.show(1, truncate=False)\n",
    "\n",
    "print(\"Data Schema:\")\n",
    "df.printSchema()"
   ]
  },
  {
   "cell_type": "code",
   "execution_count": 59,
   "id": "a662caf4-c47d-4bf9-af61-58891b9cf28b",
   "metadata": {},
   "outputs": [
    {
     "name": "stderr",
     "output_type": "stream",
     "text": [
      "[Stage 2:======================================================>(146 + 1) / 147]"
     ]
    },
    {
     "name": "stdout",
     "output_type": "stream",
     "text": [
      "Total records: 3848330\n"
     ]
    },
    {
     "name": "stderr",
     "output_type": "stream",
     "text": [
      "                                                                                "
     ]
    }
   ],
   "source": [
    "record_count = df.count()\n",
    "print(f\"Total records: {record_count}\")"
   ]
  },
  {
   "cell_type": "code",
   "execution_count": 61,
   "id": "61758096-5a83-4769-94a0-7cc2b5e54e9f",
   "metadata": {},
   "outputs": [],
   "source": [
    "df = df.drop(\"body\", \"normalizedBody\", \"title\")"
   ]
  },
  {
   "cell_type": "code",
   "execution_count": 62,
   "id": "b7d0b913-b1f1-4b01-833b-cd422cec21df",
   "metadata": {},
   "outputs": [],
   "source": [
    "df = df.fillna({\"subreddit\": \"unknown\", \"author\": \"unnamed\"})"
   ]
  },
  {
   "cell_type": "code",
   "execution_count": 64,
   "id": "30ebcf43-6521-4459-b5ef-08afab9e89dd",
   "metadata": {},
   "outputs": [],
   "source": [
    "df = df.withColumn(\"content\", lower(trim(col(\"content\")))) \\\n",
    "        .withColumn(\"subreddit\", lower(trim(col(\"subreddit\")))) \\\n",
    "        .withColumn(\"summary\", lower(trim(col(\"summary\"))))"
   ]
  },
  {
   "cell_type": "code",
   "execution_count": 65,
   "id": "ca76d62b-dc3d-4b12-a219-84487b501aab",
   "metadata": {},
   "outputs": [],
   "source": [
    "df = df.filter(col(\"content_len\") >= 5)"
   ]
  },
  {
   "cell_type": "code",
   "execution_count": 66,
   "id": "eb1b153a-a372-493d-b112-5019e5375cac",
   "metadata": {},
   "outputs": [
    {
     "name": "stdout",
     "output_type": "stream",
     "text": [
      "root\n",
      " |-- author: string (nullable = false)\n",
      " |-- content: string (nullable = true)\n",
      " |-- content_len: long (nullable = true)\n",
      " |-- id: string (nullable = true)\n",
      " |-- subreddit: string (nullable = false)\n",
      " |-- subreddit_id: string (nullable = true)\n",
      " |-- summary: string (nullable = true)\n",
      " |-- summary_len: long (nullable = true)\n",
      "\n",
      "+----------------+--------------------+-----------+-------+-----------+------------+--------------------+-----------+\n",
      "|          author|             content|content_len|     id|  subreddit|subreddit_id|             summary|summary_len|\n",
      "+----------------+--------------------+-----------+-------+-----------+------------+--------------------+-----------+\n",
      "|raysofdarkmatter|i think it should...|        178|c69al3r|       math|    t5_2qh0n|shifting seasonal...|          8|\n",
      "|         Stork13|art is about the ...|        148|c6a9nxd|      funny|    t5_2qh33|personal opinions...|          4|\n",
      "|   Cloud_dreamer|ask me what i thi...|         76|c6acx4l|borderlands|    t5_2r8cd|insults and slack...|         73|\n",
      "|   NightlyReaper|in mechwarrior on...|        213|c8onqew|   gamingpc|    t5_2sq2y|yes, joysticks in...|         19|\n",
      "|  NuffZetPand0ra|you are talking a...|        404|c6acxvc|     diablo|    t5_2qore|class only items ...|          7|\n",
      "+----------------+--------------------+-----------+-------+-----------+------------+--------------------+-----------+\n",
      "only showing top 5 rows\n",
      "\n"
     ]
    }
   ],
   "source": [
    "df.printSchema()\n",
    "df.show(5)"
   ]
  },
  {
   "cell_type": "code",
   "execution_count": 67,
   "id": "8aa52491-b612-46b9-b998-6329189b3758",
   "metadata": {},
   "outputs": [
    {
     "name": "stderr",
     "output_type": "stream",
     "text": [
      "                                                                                "
     ]
    }
   ],
   "source": [
    "df.write.mode(\"overwrite\").parquet(\"hdfs:///data/reddit/clean_corpus.parquet\")"
   ]
  },
  {
   "cell_type": "code",
   "execution_count": 69,
   "id": "6388ff4d-2531-4a49-a5cb-5ca26bd7fdbd",
   "metadata": {},
   "outputs": [
    {
     "name": "stderr",
     "output_type": "stream",
     "text": [
      "[Stage 10:>                                                         (0 + 1) / 1]"
     ]
    },
    {
     "name": "stdout",
     "output_type": "stream",
     "text": [
      "+-----------+-------------------------------------------------------------------------------------------------------------------------------------------------------------------------------------------------------------------------------------------------------------------------------------------------------------------------------------------------------------------------------------------------------------------------------------------------------------------------------------------------------------------------------------------------------------------------------------------------------------------------------------------------------------------------------------------------------------------------------------------------------------------------------------------------------------------------------------------------------------------------------------------------------------------------------------------------------------------------------------------------------------------------------------------------------------------------------------------------------------------------------------------------------------------------------------------------------------------------------------------------------------------------------------------------------------------------------------------------------------------------------------------------------------------------------------------------+-----------+-------+---------+------------+-----------------------------------------------------+-----------+\n",
      "|author     |content                                                                                                                                                                                                                                                                                                                                                                                                                                                                                                                                                                                                                                                                                                                                                                                                                                                                                                                                                                                                                                                                                                                                                                                                                                                                                                                                                                                                                                          |content_len|id     |subreddit|subreddit_id|summary                                              |summary_len|\n",
      "+-----------+-------------------------------------------------------------------------------------------------------------------------------------------------------------------------------------------------------------------------------------------------------------------------------------------------------------------------------------------------------------------------------------------------------------------------------------------------------------------------------------------------------------------------------------------------------------------------------------------------------------------------------------------------------------------------------------------------------------------------------------------------------------------------------------------------------------------------------------------------------------------------------------------------------------------------------------------------------------------------------------------------------------------------------------------------------------------------------------------------------------------------------------------------------------------------------------------------------------------------------------------------------------------------------------------------------------------------------------------------------------------------------------------------------------------------------------------------+-----------+-------+---------+------------+-----------------------------------------------------+-----------+\n",
      "|analog_jedi|i'm not saying that we shouldn't have dueling in the fleet. \\n my fault then, i thought that was precisely what you were doing.  :)   i have no idea how these things are actually coded or implemented. \\n one recent case in point of how duels have helped is a sentinel in my guild - who while being one of our best geared members, was noticeably becoming a weak link in our raid team.  this was his first mmo and he was without a doubt missing some crucial knowledge of what abilities to use in what order, under different scenarios.  he also pvp'd very little, but i talked him into coming to one of our tourneys.  my pvp alt is also a sentinel, and i was one of the best pvp geared members present.  this was the perfect opportunity to give him constructive criticism about when he should be using what cooldowns against different opponents.  but it was also a great way to do that in a learning type of environment and good 'training' as it were, although getting people together and going to a planet to do it makes it difficult to motivate people to come, since many know they won't \"win\" so won't bother coming.  but it is hard to organise enough people to go without the guise of a tournament. \\n training dummies are wonderful tools as well, and i recommend mox damage parser to go with it.  but even if you do not enjoy pvp'ing the, direct feedback other players can give is priceless.|255        |c4we15t|swtor    |t5_2qxih    |e-peen measuring contests will make your dick bigger.|8          |\n",
      "+-----------+-------------------------------------------------------------------------------------------------------------------------------------------------------------------------------------------------------------------------------------------------------------------------------------------------------------------------------------------------------------------------------------------------------------------------------------------------------------------------------------------------------------------------------------------------------------------------------------------------------------------------------------------------------------------------------------------------------------------------------------------------------------------------------------------------------------------------------------------------------------------------------------------------------------------------------------------------------------------------------------------------------------------------------------------------------------------------------------------------------------------------------------------------------------------------------------------------------------------------------------------------------------------------------------------------------------------------------------------------------------------------------------------------------------------------------------------------+-----------+-------+---------+------------+-----------------------------------------------------+-----------+\n",
      "only showing top 1 row\n",
      "\n"
     ]
    },
    {
     "name": "stderr",
     "output_type": "stream",
     "text": [
      "                                                                                "
     ]
    }
   ],
   "source": [
    "df = spark.read.parquet(\"hdfs:///data/reddit/clean_corpus.parquet\")\n",
    "\n",
    "df.show(1, truncate=False)"
   ]
  },
  {
   "cell_type": "code",
   "execution_count": 70,
   "id": "84bc360b-5b10-4d5b-96c9-f97b1c2138f6",
   "metadata": {},
   "outputs": [
    {
     "name": "stdout",
     "output_type": "stream",
     "text": [
      "root\n",
      " |-- author: string (nullable = true)\n",
      " |-- content: string (nullable = true)\n",
      " |-- content_len: long (nullable = true)\n",
      " |-- id: string (nullable = true)\n",
      " |-- subreddit: string (nullable = true)\n",
      " |-- subreddit_id: string (nullable = true)\n",
      " |-- summary: string (nullable = true)\n",
      " |-- summary_len: long (nullable = true)\n",
      "\n"
     ]
    }
   ],
   "source": [
    "df.printSchema()"
   ]
  },
  {
   "cell_type": "code",
   "execution_count": 71,
   "id": "100fe0c2-f23c-4359-9088-f31ded1a5ae5",
   "metadata": {},
   "outputs": [],
   "source": [
    "spark.stop()"
   ]
  },
  {
   "cell_type": "code",
   "execution_count": null,
   "id": "dca81822-f39b-4f37-bcc2-c33dbf4fd2c4",
   "metadata": {},
   "outputs": [],
   "source": []
  }
 ],
 "metadata": {
  "kernelspec": {
   "display_name": "Python 3 (ipykernel)",
   "language": "python",
   "name": "python3"
  },
  "language_info": {
   "codemirror_mode": {
    "name": "ipython",
    "version": 3
   },
   "file_extension": ".py",
   "mimetype": "text/x-python",
   "name": "python",
   "nbconvert_exporter": "python",
   "pygments_lexer": "ipython3",
   "version": "3.10.12"
  }
 },
 "nbformat": 4,
 "nbformat_minor": 5
}
