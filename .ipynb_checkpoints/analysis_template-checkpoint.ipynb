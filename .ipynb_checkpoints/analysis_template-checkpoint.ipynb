{
 "cells": [
  {
   "cell_type": "markdown",
   "id": "b30fc220-34b4-4580-a70e-783125e7f207",
   "metadata": {},
   "source": [
    "### Import dependencies and spark session function"
   ]
  },
  {
   "cell_type": "code",
   "execution_count": 1,
   "id": "9b0bbaa0-52e7-4569-ad59-ea59f089050d",
   "metadata": {},
   "outputs": [],
   "source": [
    "import findspark\n",
    "findspark.init()\n",
    "\n",
    "from pyspark.sql import SparkSession\n",
    "from pyspark.sql.functions import col\n",
    "import os\n",
    "\n",
    "def create_spark_session(app_name=\"RedditAnalyzer\"):\n",
    "    \"\"\"Create a Spark session connected to the cluster\"\"\"\n",
    "    spark = SparkSession \\\n",
    "        .builder \\\n",
    "        .master(\"spark://g37-master:7077\") \\\n",
    "        .appName(app_name) \\\n",
    "        .config(\"spark.dynamicAllocation.enabled\", True) \\\n",
    "        .config(\"spark.dynamicAllocation.shuffleTracking.enabled\", True) \\\n",
    "        .config(\"spark.shuffle.service.enabled\", False) \\\n",
    "        .config(\"spark.dynamicAllocation.executorIdleTimeout\", \"30s\") \\\n",
    "        .config(\"spark.executor.cores\", 3) \\\n",
    "        .config(\"spark.executor.memory\", \"6g\") \\\n",
    "        .config(\"spark.driver.memory\", \"6g\") \\\n",
    "        .config(\"spark.default.parallelism\", 18) \\\n",
    "        .config(\"spark.sql.shuffle.partitions\", 18) \\\n",
    "        .config(\"spark.memory.fraction\", 0.8) \\\n",
    "        .config(\"spark.serializer\", \"org.apache.spark.serializer.KryoSerializer\") \\\n",
    "        .config(\"spark.kryoserializer.buffer.max\", \"1g\") \\\n",
    "        .getOrCreate()\n",
    "    \n",
    "    return spark"
   ]
  },
  {
   "cell_type": "markdown",
   "id": "34c8427f-fa26-42f4-9895-0d96e34ad2df",
   "metadata": {},
   "source": [
    "### Initialize"
   ]
  },
  {
   "cell_type": "code",
   "execution_count": 2,
   "id": "162ab818-1782-4779-bc3b-a444d6daeb05",
   "metadata": {},
   "outputs": [
    {
     "name": "stderr",
     "output_type": "stream",
     "text": [
      "Setting default log level to \"WARN\".\n",
      "To adjust logging level use sc.setLogLevel(newLevel). For SparkR, use setLogLevel(newLevel).\n",
      "25/03/09 16:53:55 WARN NativeCodeLoader: Unable to load native-hadoop library for your platform... using builtin-java classes where applicable\n"
     ]
    }
   ],
   "source": [
    "spark = create_spark_session()"
   ]
  },
  {
   "cell_type": "code",
   "execution_count": 3,
   "id": "03fa9789-47e6-401a-9e60-ca52c175d3eb",
   "metadata": {},
   "outputs": [
    {
     "name": "stderr",
     "output_type": "stream",
     "text": [
      "                                                                                "
     ]
    },
    {
     "name": "stdout",
     "output_type": "stream",
     "text": [
      "+-----------+-----------------------------------------------------------------------------------------------------------------------------------------------------------------------------------------------------------------------------------------------------------------------------------------------------------------------------------------------------------------------------------------------------------------------------------------------------------------------------------------------------------------------------------------------------------------------------------------------------------------------------------------------------------------------------------------------------------------------------------------------------------------------------------------------------------------------------------------------------------------------------------------------------------------------------------------------------------------------------------------------------------------------------------------------------------------------------------------------------------------------------------------------------------------------------------------------------------------------------------------------------------------------------------------------------------------------------------------------------------------------------------------------------------------------------------------------------------------------------------------------------------------------------------------------------------------------------------------------------------------------------------------------------------------------------------------------------------------------------------------------------------------------------------------------------------------------------------------------------------------------------------------------------------------------------------------------------------------------------------------------------------------------------------------------------------------------------------------------------------------------------------------------------------------------------------------------------------------------------------------------------------------------------------------------------------------------------------------------------------------------------------------------------------------------------------------------------------------------------------------------------------------------------------------------------------------------------------------------------------------------------------------------------------------------------------------------------------------------------------------------------------------------------------------------------------------------------------------------------------------------------------------------------------------------------------------------------------------------------------------------------------------------------------------------------------------------------------------------------------------------------------------------------------------------------------------------------------------------------------+-----------+-------+---------+------------+-----------------------------------------------------------------------------------------------------------------------------------------------------------------------------------------------------------------------------------------------------------------------------------------------------------------------+-----------+\n",
      "|author     |content                                                                                                                                                                                                                                                                                                                                                                                                                                                                                                                                                                                                                                                                                                                                                                                                                                                                                                                                                                                                                                                                                                                                                                                                                                                                                                                                                                                                                                                                                                                                                                                                                                                                                                                                                                                                                                                                                                                                                                                                                                                                                                                                                                                                                                                                                                                                                                                                                                                                                                                                                                                                                                                                                                                                                                                                                                                                                                                                                                                                                                                                                                                                                                                                                            |content_len|id     |subreddit|subreddit_id|summary                                                                                                                                                                                                                                                                                                                |summary_len|\n",
      "+-----------+-----------------------------------------------------------------------------------------------------------------------------------------------------------------------------------------------------------------------------------------------------------------------------------------------------------------------------------------------------------------------------------------------------------------------------------------------------------------------------------------------------------------------------------------------------------------------------------------------------------------------------------------------------------------------------------------------------------------------------------------------------------------------------------------------------------------------------------------------------------------------------------------------------------------------------------------------------------------------------------------------------------------------------------------------------------------------------------------------------------------------------------------------------------------------------------------------------------------------------------------------------------------------------------------------------------------------------------------------------------------------------------------------------------------------------------------------------------------------------------------------------------------------------------------------------------------------------------------------------------------------------------------------------------------------------------------------------------------------------------------------------------------------------------------------------------------------------------------------------------------------------------------------------------------------------------------------------------------------------------------------------------------------------------------------------------------------------------------------------------------------------------------------------------------------------------------------------------------------------------------------------------------------------------------------------------------------------------------------------------------------------------------------------------------------------------------------------------------------------------------------------------------------------------------------------------------------------------------------------------------------------------------------------------------------------------------------------------------------------------------------------------------------------------------------------------------------------------------------------------------------------------------------------------------------------------------------------------------------------------------------------------------------------------------------------------------------------------------------------------------------------------------------------------------------------------------------------------------------------------+-----------+-------+---------+------------+-----------------------------------------------------------------------------------------------------------------------------------------------------------------------------------------------------------------------------------------------------------------------------------------------------------------------+-----------+\n",
      "|analog_jedi|i'm not saying that we shouldn't have dueling in the fleet. \\n my fault then, i thought that was precisely what you were doing.  :)   i have no idea how these things are actually coded or implemented. \\n one recent case in point of how duels have helped is a sentinel in my guild - who while being one of our best geared members, was noticeably becoming a weak link in our raid team.  this was his first mmo and he was without a doubt missing some crucial knowledge of what abilities to use in what order, under different scenarios.  he also pvp'd very little, but i talked him into coming to one of our tourneys.  my pvp alt is also a sentinel, and i was one of the best pvp geared members present.  this was the perfect opportunity to give him constructive criticism about when he should be using what cooldowns against different opponents.  but it was also a great way to do that in a learning type of environment and good 'training' as it were, although getting people together and going to a planet to do it makes it difficult to motivate people to come, since many know they won't \"win\" so won't bother coming.  but it is hard to organise enough people to go without the guise of a tournament. \\n training dummies are wonderful tools as well, and i recommend mox damage parser to go with it.  but even if you do not enjoy pvp'ing the, direct feedback other players can give is priceless.                                                                                                                                                                                                                                                                                                                                                                                                                                                                                                                                                                                                                                                                                                                                                                                                                                                                                                                                                                                                                                                                                                                                                                                                                                                                                                                                                                                                                                                                                                                                                                                                                                                                                                                                                                                  |255        |c4we15t|swtor    |t5_2qxih    |e-peen measuring contests will make your dick bigger.                                                                                                                                                                                                                                                                  |8          |\n",
      "|DuckSwapper|it's an x-post from /r/soccer ( where i was advised to post it to other reddits to get wider audience as well - after many props to my dog, i figured the photo may belong here :)> \\n dear redditors!\\nas you may know, this year poland (along with ukraine) is a host to uefa euro, one of the biggest football (or soccer ;)) events in the world. football is my passion since i've been a baby and i'm conscious such an opportunity will probably never appear in my homeland again (not in my lifetime, at least). being on the new national stadium with all those thousands of people, shouting my throat off cheering for my team is something i so very much wish to pull off. something i always only watched in tv and suddenly it seems to be possible to try fot myself! however, getting the tickets in the cheapest categories is almost impossible (even though i'm monitoring the market nearly 24/7 from last year november, when the sales started..) and the better ones are so much unaffordable for me. the championships begin in two weeks so i was starting to lose all hope when suddenly a great thing appeared! \\n so, getting to the point - one of the polish companies started a competition in which they fund one of the competitors a vip package for the semi final for three people - which means, i could take my parents, improbably huge football fans as well, with me! to have an entry, one has to depict the answer to the question \"how ready are you for cheering the polish national team?\" and put at least one bottle of the vodka this company sells in his picture. then, after the voting, the top 10 pictures go under the jury meeting where they select one winner. the competition started three days ago and lasts till june 17th so i would greatly appreciate any support till then! \\n my entry in full res is here:  (it's also the thread's photo). as you can see, i displayed some of my collection of polish national team-themed accessories - bedding, towel, pillows, pendrives, key fobs, national shirts, hats, scarves and so on. along with me is my dog (also dressed as a player :)) and i'd like to assure you i was pouring water to his bowl, not vodka :) beforehand, i thoroughly cleaned the bottle to make sure there is no alcohol left in case he drinks it while taking photos ;) \\n so, if you find my story and picture interesting, please do these three simple steps: \\n \\n like the profile:    \\n accept this app:     \\n click the red thumb-up icon in the lower left with \"głosuję!\" (\"i vote!\") beside under this link:  \\n \\n if you could do this, i would be so very grateful! it's a great opportunity and it simply tears my football heart apart when i think i could miss an event such big. thank you so very much in advance :) \\n in the comments on /r/soccer i found out that this info may be useful for those of you who would like to help but decide not to vote because of having to accept the app: \"if one does not feel comfortable voting because of having to accept the app, please note that you can accept it, vote and then delete it from your facebook - it won't affect the vote as far as i know :)\"|572        |c4vpfay|aww      |t5_2qh1o    |so: i've been loving football with all my heart since i was a child, i can't afford costful tickets and the cheap ones are unobtainable, there is a competition in which i could win tickets for me and my parents, two paragraphs above is the instruction how to vote for me. if you do, thank you good sir/madam! :)|59         |\n",
      "|JoeyTBND   |from what i know there is no risk client side really, (just backup your old stuff just incase). but from trying to get our groups server running on 1.7 was a pain in the ass, we ended up just returning it to the old version so we could all play on it again.                                                                                                                                                                                                                                                                                                                                                                                                                                                                                                                                                                                                                                                                                                                                                                                                                                                                                                                                                                                                                                                                                                                                                                                                                                                                                                                                                                                                                                                                                                                                                                                                                                                                                                                                                                                                                                                                                                                                                                                                                                                                                                                                                                                                                                                                                                                                                                                                                                                                                                                                                                                                                                                                                                                                                                                                                                                                                                                                                                  |53         |c4vvcxk|dayz     |t5_2ty3s    |if you have no problems on your current patch and there is a server running it i see no point in updating.                                                                                                                                                                                                             |22         |\n",
      "+-----------+-----------------------------------------------------------------------------------------------------------------------------------------------------------------------------------------------------------------------------------------------------------------------------------------------------------------------------------------------------------------------------------------------------------------------------------------------------------------------------------------------------------------------------------------------------------------------------------------------------------------------------------------------------------------------------------------------------------------------------------------------------------------------------------------------------------------------------------------------------------------------------------------------------------------------------------------------------------------------------------------------------------------------------------------------------------------------------------------------------------------------------------------------------------------------------------------------------------------------------------------------------------------------------------------------------------------------------------------------------------------------------------------------------------------------------------------------------------------------------------------------------------------------------------------------------------------------------------------------------------------------------------------------------------------------------------------------------------------------------------------------------------------------------------------------------------------------------------------------------------------------------------------------------------------------------------------------------------------------------------------------------------------------------------------------------------------------------------------------------------------------------------------------------------------------------------------------------------------------------------------------------------------------------------------------------------------------------------------------------------------------------------------------------------------------------------------------------------------------------------------------------------------------------------------------------------------------------------------------------------------------------------------------------------------------------------------------------------------------------------------------------------------------------------------------------------------------------------------------------------------------------------------------------------------------------------------------------------------------------------------------------------------------------------------------------------------------------------------------------------------------------------------------------------------------------------------------------------------------------------+-----------+-------+---------+------------+-----------------------------------------------------------------------------------------------------------------------------------------------------------------------------------------------------------------------------------------------------------------------------------------------------------------------+-----------+\n",
      "only showing top 3 rows\n",
      "\n",
      "root\n",
      " |-- author: string (nullable = true)\n",
      " |-- content: string (nullable = true)\n",
      " |-- content_len: long (nullable = true)\n",
      " |-- id: string (nullable = true)\n",
      " |-- subreddit: string (nullable = true)\n",
      " |-- subreddit_id: string (nullable = true)\n",
      " |-- summary: string (nullable = true)\n",
      " |-- summary_len: long (nullable = true)\n",
      "\n"
     ]
    }
   ],
   "source": [
    "df = spark.read.parquet(\"hdfs:///data/reddit/clean_corpus.parquet\")\n",
    "\n",
    "df.show(3, truncate=False)\n",
    "df.printSchema()"
   ]
  },
  {
   "cell_type": "markdown",
   "id": "8a1b4a01-89a1-497c-8db5-827a68a90694",
   "metadata": {},
   "source": [
    "code goes here"
   ]
  },
  {
   "cell_type": "markdown",
   "id": "642cec2c-cae6-419f-b672-16bed0be82b5",
   "metadata": {},
   "source": [
    "### Shut down spark"
   ]
  },
  {
   "cell_type": "code",
   "execution_count": 4,
   "id": "dda9ba77-be27-4067-ad9d-d25add096837",
   "metadata": {},
   "outputs": [],
   "source": [
    "spark.stop()"
   ]
  },
  {
   "cell_type": "markdown",
   "id": "6c540cd1-e22c-49ba-b266-6b2a61776888",
   "metadata": {},
   "source": [
    "### After this...\n",
    "1. Commit and push your changes (see `README`)\n",
    "2. Run `./stop_cluster.sh` on the VM to shut down Spark clusters, HDFS, and Jupyter."
   ]
  }
 ],
 "metadata": {
  "kernelspec": {
   "display_name": "Python 3 (ipykernel)",
   "language": "python",
   "name": "python3"
  },
  "language_info": {
   "codemirror_mode": {
    "name": "ipython",
    "version": 3
   },
   "file_extension": ".py",
   "mimetype": "text/x-python",
   "name": "python",
   "nbconvert_exporter": "python",
   "pygments_lexer": "ipython3",
   "version": "3.10.12"
  }
 },
 "nbformat": 4,
 "nbformat_minor": 5
}
