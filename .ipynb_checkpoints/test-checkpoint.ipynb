{
 "cells": [
  {
   "cell_type": "code",
   "execution_count": 1,
   "id": "c5cb0b1a-0c48-40e7-98d7-02d85acf0825",
   "metadata": {},
   "outputs": [
    {
     "name": "stderr",
     "output_type": "stream",
     "text": [
      "Setting default log level to \"WARN\".\n",
      "To adjust logging level use sc.setLogLevel(newLevel). For SparkR, use setLogLevel(newLevel).\n",
      "25/03/08 21:59:32 WARN NativeCodeLoader: Unable to load native-hadoop library for your platform... using builtin-java classes where applicable\n",
      "                                                                                "
     ]
    },
    {
     "name": "stdout",
     "output_type": "stream",
     "text": [
      "+---+------+\n",
      "| id| fruit|\n",
      "+---+------+\n",
      "|  1| apple|\n",
      "|  2|banana|\n",
      "|  3|orange|\n",
      "+---+------+\n",
      "\n"
     ]
    },
    {
     "name": "stderr",
     "output_type": "stream",
     "text": [
      "                                                                                "
     ]
    },
    {
     "name": "stdout",
     "output_type": "stream",
     "text": [
      "+---+------+\n",
      "|_c0|   _c1|\n",
      "+---+------+\n",
      "|  2|banana|\n",
      "|  3|orange|\n",
      "|  1| apple|\n",
      "+---+------+\n",
      "\n"
     ]
    }
   ],
   "source": [
    "import findspark\n",
    "findspark.init()\n",
    "\n",
    "from pyspark.sql import SparkSession\n",
    "\n",
    "# Create Spark session with HDFS integration\n",
    "spark = SparkSession.builder \\\n",
    "    .appName(\"HDFS Test\") \\\n",
    "    .master(\"spark://g37-master:7077\") \\\n",
    "    .config(\"spark.executor.memory\", \"2g\") \\\n",
    "    .getOrCreate()\n",
    "\n",
    "# Create test data\n",
    "data = [(1, \"apple\"), (2, \"banana\"), (3, \"orange\")]\n",
    "df = spark.createDataFrame(data, [\"id\", \"fruit\"])\n",
    "df.show()\n",
    "\n",
    "# Write to HDFS\n",
    "df.write.mode(\"overwrite\").csv(\"hdfs://g37-master:9000/test-data\")\n",
    "\n",
    "# Read from HDFS\n",
    "read_df = spark.read.csv(\"hdfs://g37-master:9000/test-data\")\n",
    "read_df.show()\n",
    "\n",
    "spark.stop()"
   ]
  },
  {
   "cell_type": "code",
   "execution_count": null,
   "id": "22df3825-1051-472c-93ff-9113d93f1fcc",
   "metadata": {},
   "outputs": [],
   "source": []
  }
 ],
 "metadata": {
  "kernelspec": {
   "display_name": "Python 3 (ipykernel)",
   "language": "python",
   "name": "python3"
  },
  "language_info": {
   "codemirror_mode": {
    "name": "ipython",
    "version": 3
   },
   "file_extension": ".py",
   "mimetype": "text/x-python",
   "name": "python",
   "nbconvert_exporter": "python",
   "pygments_lexer": "ipython3",
   "version": "3.10.12"
  }
 },
 "nbformat": 4,
 "nbformat_minor": 5
}
